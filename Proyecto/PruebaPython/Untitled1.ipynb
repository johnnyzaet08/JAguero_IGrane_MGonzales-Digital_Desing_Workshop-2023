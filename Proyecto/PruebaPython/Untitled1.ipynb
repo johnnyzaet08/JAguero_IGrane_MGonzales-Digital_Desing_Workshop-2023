{
 "cells": [
  {
   "cell_type": "code",
   "execution_count": 53,
   "id": "881e22a4",
   "metadata": {
    "scrolled": true
   },
   "outputs": [
    {
     "name": "stdout",
     "output_type": "stream",
     "text": [
      "\n",
      "\n",
      "\n",
      "\n",
      "65536\n"
     ]
    }
   ],
   "source": [
    "with open(\"RAM.mem\", \"r\") as file:\n",
    "    contents = file.read()\n",
    "\n",
    "# Process the contents\n",
    "# For example, split the contents by newline character\n",
    "lines = contents.split(\"\\n\")\n",
    "\n",
    "suma = 0\n",
    "for line in lines:\n",
    "    numero = \"\"\n",
    "    sumar = False\n",
    "    \n",
    "    for character in line:\n",
    "        if(character == \":\"):\n",
    "            sumar = True\n",
    "        elif(character == \" \"):\n",
    "            None\n",
    "        elif(character != \" \" and sumar and character != None and character != \"\\n\"):\n",
    "            numero += character\n",
    "    try:\n",
    "        suma += int(numero)\n",
    "    except:\n",
    "        print(numero)\n",
    "        None\n",
    "    \n",
    "print(suma)"
   ]
  },
  {
   "cell_type": "code",
   "execution_count": null,
   "id": "2f7c6206",
   "metadata": {},
   "outputs": [],
   "source": []
  }
 ],
 "metadata": {
  "kernelspec": {
   "display_name": "Python 3 (ipykernel)",
   "language": "python",
   "name": "python3"
  },
  "language_info": {
   "codemirror_mode": {
    "name": "ipython",
    "version": 3
   },
   "file_extension": ".py",
   "mimetype": "text/x-python",
   "name": "python",
   "nbconvert_exporter": "python",
   "pygments_lexer": "ipython3",
   "version": "3.11.4"
  }
 },
 "nbformat": 4,
 "nbformat_minor": 5
}
