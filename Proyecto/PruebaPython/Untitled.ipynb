{
 "cells": [
  {
   "cell_type": "code",
   "execution_count": 11,
   "id": "6a02cad9",
   "metadata": {},
   "outputs": [],
   "source": [
    "def quitarespacios(entrada):\n",
    "    contador = 0\n",
    "    contador_aux = 0\n",
    "    salida = \"\"\n",
    "    for i in entrada:\n",
    "        if i == \" \":\n",
    "            contador += 1\n",
    "            if contador == 4:\n",
    "                contador = 0\n",
    "                contador_aux += 1\n",
    "                salida += \";\\n\" + str(contador_aux) + \": \"\n",
    "        else:\n",
    "            salida += i\n",
    "    return  salida"
   ]
  },
  {
   "cell_type": "code",
   "execution_count": 16,
   "id": "78bf5801",
   "metadata": {},
   "outputs": [],
   "source": [
    "salida = quitarespacios(\"e3 a0 a0 00 e3 a0 b0 00 e3 a0 90 00 e4 99 10 00 e4 91 20 01 e2 82 30 01 e4 81 30 01 e2 89 90 01 e2 8a a0 01 e3 5a 0c 01 1a ff ff f7 e3 a0 a0 00 e2 8b b0 01 e3 5b 00 ff 1a ff ff f3 e3 a0 90 00 e3 a0 10 00 e3 a0 20 00 e3 a0 30 00 e4 99 10 01 e0 82 20 01 e4 89 24 01 e2 89 90 01 e3 59 0c 01 1a ff ff f9 e3 a0 9c 01 e3 00 81 01 e3 a0 20 00 e4 99 10 01 e1 58 00 01 ca 00 00 04 e0 41 10 08 e2 82 20 01 e1 58 00 01 ca 00 00 00 ea ff ff fa e4 89 24 01 e2 89 90 01 e3 59 02 00 1a ff ff f2 e3 a0 a0 00 e3 a0 b0 00 e3 a0 90 00 e4 99 10 00 e4 91 28 01 e4 89 20 02 e2 89 90 01 e2 8a a0 01 e3 5a 01 00 1a ff ff f8 e3 a0 a0 00 e2 8b b0 01 e3 5b 01 00 1a ff ff f4  e1 2f ff 1e\")"
   ]
  },
  {
   "cell_type": "code",
   "execution_count": 17,
   "id": "8336ddac",
   "metadata": {},
   "outputs": [
    {
     "name": "stdout",
     "output_type": "stream",
     "text": [
      "e3a0a000;\n",
      "1: e3a0b000;\n",
      "2: e3a09000;\n",
      "3: e4991000;\n",
      "4: e4912001;\n",
      "5: e2823001;\n",
      "6: e4813001;\n",
      "7: e2899001;\n",
      "8: e28aa001;\n",
      "9: e35a0c01;\n",
      "10: 1afffff7;\n",
      "11: e3a0a000;\n",
      "12: e28bb001;\n",
      "13: e35b00ff;\n",
      "14: 1afffff3;\n",
      "15: e3a09000;\n",
      "16: e3a01000;\n",
      "17: e3a02000;\n",
      "18: e3a03000;\n",
      "19: e4991001;\n",
      "20: e0822001;\n",
      "21: e4892401;\n",
      "22: e2899001;\n",
      "23: e3590c01;\n",
      "24: 1afffff9;\n",
      "25: e3a09c01;\n",
      "26: e3008101;\n",
      "27: e3a02000;\n",
      "28: e4991001;\n",
      "29: e1580001;\n",
      "30: ca000004;\n",
      "31: e0411008;\n",
      "32: e2822001;\n",
      "33: e1580001;\n",
      "34: ca000000;\n",
      "35: eafffffa;\n",
      "36: e4892401;\n",
      "37: e2899001;\n",
      "38: e3590200;\n",
      "39: 1afffff2;\n",
      "40: e3a0a000;\n",
      "41: e3a0b000;\n",
      "42: e3a09000;\n",
      "43: e4991000;\n",
      "44: e4912801;\n",
      "45: e4892002;\n",
      "46: e2899001;\n",
      "47: e28aa001;\n",
      "48: e35a0100;\n",
      "49: 1afffff8;\n",
      "50: e3a0a000;\n",
      "51: e28bb001;\n",
      "52: e35b0100;\n",
      "53: 1afffff4;\n",
      "54: e12fff;\n",
      "55: 1e\n"
     ]
    }
   ],
   "source": [
    "print(salida)"
   ]
  },
  {
   "cell_type": "code",
   "execution_count": null,
   "id": "73ca40f3",
   "metadata": {},
   "outputs": [],
   "source": []
  }
 ],
 "metadata": {
  "kernelspec": {
   "display_name": "Python 3 (ipykernel)",
   "language": "python",
   "name": "python3"
  },
  "language_info": {
   "codemirror_mode": {
    "name": "ipython",
    "version": 3
   },
   "file_extension": ".py",
   "mimetype": "text/x-python",
   "name": "python",
   "nbconvert_exporter": "python",
   "pygments_lexer": "ipython3",
   "version": "3.11.4"
  }
 },
 "nbformat": 4,
 "nbformat_minor": 5
}
