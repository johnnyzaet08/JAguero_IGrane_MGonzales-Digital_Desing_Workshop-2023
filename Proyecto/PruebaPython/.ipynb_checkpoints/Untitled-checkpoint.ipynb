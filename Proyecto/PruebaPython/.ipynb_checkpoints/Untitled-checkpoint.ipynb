{
 "cells": [
  {
   "cell_type": "code",
   "execution_count": 7,
   "id": "6a02cad9",
   "metadata": {},
   "outputs": [],
   "source": [
    "def quitarespacios(entrada):\n",
    "    contador = 0\n",
    "    contador_aux = 0\n",
    "    salida = \"\"\n",
    "    for i in entrada:\n",
    "        if i == \" \":\n",
    "            contador += 1\n",
    "            if contador == 4:\n",
    "                contador = 0\n",
    "                contador_aux += 1\n",
    "                salida += \";\\n\" + str(contador_aux) + \": \"\n",
    "        else:\n",
    "            salida += i\n",
    "    return  salida"
   ]
  },
  {
   "cell_type": "code",
   "execution_count": 8,
   "id": "78bf5801",
   "metadata": {},
   "outputs": [],
   "source": [
    "salida = quitarespacios(\"e3 a0 7c 01 e3 a0 8c 01 e3 a0 10 00 e3 a0 20 00 e4 d0 30 01 e0 82 41 03 e5 94 40 00 e2 84 40 01 e7 82 41 03 e1 50 00 05 1a ff ff f8 e3 a0 10 00 e3 a0 20 00 e5 92 30 00 e5 81 30 00 e5 11 40 04 e7 92 51 01 e0 84 40 05 e5 81 40 00 e2 81 10 04 e3 51 0b 01 1a ff ff f8 e3 a0 10 00 e3 a0 20 00 e5 11 30 04 e0 43 30 02 e1 a0 40 07 e0 44 40 02 e5 81 30 00 e2 81 10 04 e3 51 0b 01 1a ff ff f7 e3 a0 10 00 e1 a0 20 06 e3 a0 30 00 e1 a0 40 02 e4 d0 50 01 e1 a0 51 05 e7 94 50 05 e4 c4 50 01 e2 83 30 01 e1 53 00 07 1a ff ff f8 e2 81 10 01 e1 51 00 08 1a ff ff f3 e1 a0 00 02 e1 2f ff 1e\")"
   ]
  },
  {
   "cell_type": "code",
   "execution_count": 9,
   "id": "8336ddac",
   "metadata": {},
   "outputs": [
    {
     "name": "stdout",
     "output_type": "stream",
     "text": [
      "e3a07c01\n",
      "1: e3a08c01\n",
      "2: e3a01000\n",
      "3: e3a02000\n",
      "4: e4d03001\n",
      "5: e0824103\n",
      "6: e5944000\n",
      "7: e2844001\n",
      "8: e7824103\n",
      "9: e1500005\n",
      "10: 1afffff8\n",
      "11: e3a01000\n",
      "12: e3a02000\n",
      "13: e5923000\n",
      "14: e5813000\n",
      "15: e5114004\n",
      "16: e7925101\n",
      "17: e0844005\n",
      "18: e5814000\n",
      "19: e2811004\n",
      "20: e3510b01\n",
      "21: 1afffff8\n",
      "22: e3a01000\n",
      "23: e3a02000\n",
      "24: e5113004\n",
      "25: e0433002\n",
      "26: e1a04007\n",
      "27: e0444002\n",
      "28: e5813000\n",
      "29: e2811004\n",
      "30: e3510b01\n",
      "31: 1afffff7\n",
      "32: e3a01000\n",
      "33: e1a02006\n",
      "34: e3a03000\n",
      "35: e1a04002\n",
      "36: e4d05001\n",
      "37: e1a05105\n",
      "38: e7945005\n",
      "39: e4c45001\n",
      "40: e2833001\n",
      "41: e1530007\n",
      "42: 1afffff8\n",
      "43: e2811001\n",
      "44: e1510008\n",
      "45: 1afffff3\n",
      "46: e1a00002\n",
      "47: e12fff1e\n"
     ]
    }
   ],
   "source": [
    "print(salida)"
   ]
  },
  {
   "cell_type": "code",
   "execution_count": null,
   "id": "73ca40f3",
   "metadata": {},
   "outputs": [],
   "source": []
  }
 ],
 "metadata": {
  "kernelspec": {
   "display_name": "Python 3 (ipykernel)",
   "language": "python",
   "name": "python3"
  },
  "language_info": {
   "codemirror_mode": {
    "name": "ipython",
    "version": 3
   },
   "file_extension": ".py",
   "mimetype": "text/x-python",
   "name": "python",
   "nbconvert_exporter": "python",
   "pygments_lexer": "ipython3",
   "version": "3.10.11"
  }
 },
 "nbformat": 4,
 "nbformat_minor": 5
}
